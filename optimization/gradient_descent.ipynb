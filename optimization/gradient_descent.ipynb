{
 "cells": [
  {
   "cell_type": "markdown",
   "metadata": {},
   "source": [
    "### Gradient Descent\n",
    "Gradient needs a target function that is being optimized and derivative of the target function.\n",
    "\n",
    "Objective Function: Calculates a score for a given set of input parameters. f()\n",
    "\n",
    "Derivative Function: Calculates derivative (gradient) of the objective function for a given set of inputs.f`()\n",
    "\n",
    "Gradient descent starts from a randomly selected point in input space say x. The derivative is then calculated and a step is taken in the input space that is expected to result in a downhill movement in the target function, assuming we are minimizing the target function.\n",
    "\n",
    "$ x\\_new = x - \\alpha * f`(x) $\n",
    "\n",
    "$ \\alpha $ - Step size or learning rate which decides how for to move in next iteration.\n",
    "\n",
    "The process of calculating the derivative of a point and calculating a new point in the input space is repeated until either of the stop condition is met:\n",
    "\n",
    "1. Pre defined fixed number of iterations or target function evaluations reached.\n",
    "\n",
    "2. Lack of improvement in target function evaluation over some number of iterations\n",
    "\n",
    "3. Identification of a flat (stationary) area of the search space signified by a gradient of zero."
   ]
  },
  {
   "cell_type": "code",
   "execution_count": 3,
   "metadata": {},
   "outputs": [],
   "source": [
    "from numpy import asarray\n",
    "from numpy.random import rand\n",
    "from numpy import arange\n",
    "import matplotlib.pyplot as plt\n",
    "import numpy as np"
   ]
  },
  {
   "cell_type": "code",
   "execution_count": 5,
   "metadata": {},
   "outputs": [],
   "source": [
    "# objective function\n",
    "def objective(x):\n",
    "    return x**2.0"
   ]
  },
  {
   "cell_type": "code",
   "execution_count": 6,
   "metadata": {},
   "outputs": [],
   "source": [
    "# derivative of objective function\n",
    "def derivative(x):\n",
    "    return x * 2.0"
   ]
  },
  {
   "cell_type": "code",
   "execution_count": 7,
   "metadata": {},
   "outputs": [],
   "source": [
    "# gradient descent algorithm\n",
    "def gradient_descent(objective, derivative, bounds, n_iter, step_size):\n",
    "    value = []\n",
    "    eval_value = []\n",
    "    # generate an initial point\n",
    "    solution = bounds[:, 0] + rand(len(bounds)) * (bounds[:, 1] - bounds[:, 0])\n",
    "    # run the gradient descent\n",
    "    for i in range(n_iter):\n",
    "        # calculate gradient\n",
    "        gradient = derivative(solution)\n",
    "        value.append(solution)\n",
    "        # take a step\n",
    "        solution = solution - step_size * gradient\n",
    "        # evaluate candidate point\n",
    "        solution_eval = objective(solution)\n",
    "        eval_value.append(solution_eval)\n",
    "        # report progress\n",
    "        print('%d f(%s) = %.5f' % (i, solution, solution_eval))\n",
    "    return [value, eval_value, solution, solution_eval]"
   ]
  },
  {
   "cell_type": "code",
   "execution_count": 21,
   "metadata": {},
   "outputs": [
    {
     "name": "stdout",
     "output_type": "stream",
     "text": [
      "0 f([0.58065221]) = 0.33716\n",
      "1 f([0.46452176]) = 0.21578\n",
      "2 f([0.37161741]) = 0.13810\n",
      "3 f([0.29729393]) = 0.08838\n",
      "4 f([0.23783514]) = 0.05657\n",
      "5 f([0.19026811]) = 0.03620\n",
      "6 f([0.15221449]) = 0.02317\n",
      "7 f([0.12177159]) = 0.01483\n",
      "8 f([0.09741727]) = 0.00949\n",
      "9 f([0.07793382]) = 0.00607\n",
      "10 f([0.06234706]) = 0.00389\n",
      "11 f([0.04987764]) = 0.00249\n",
      "12 f([0.03990212]) = 0.00159\n",
      "13 f([0.03192169]) = 0.00102\n",
      "14 f([0.02553735]) = 0.00065\n",
      "15 f([0.02042988]) = 0.00042\n",
      "16 f([0.01634391]) = 0.00027\n",
      "17 f([0.01307513]) = 0.00017\n",
      "18 f([0.0104601]) = 0.00011\n",
      "19 f([0.00836808]) = 0.00007\n",
      "20 f([0.00669446]) = 0.00004\n",
      "21 f([0.00535557]) = 0.00003\n",
      "22 f([0.00428446]) = 0.00002\n",
      "23 f([0.00342757]) = 0.00001\n",
      "24 f([0.00274205]) = 0.00001\n",
      "25 f([0.00219364]) = 0.00000\n",
      "26 f([0.00175491]) = 0.00000\n",
      "27 f([0.00140393]) = 0.00000\n",
      "28 f([0.00112314]) = 0.00000\n",
      "29 f([0.00089852]) = 0.00000\n",
      "Done!\n",
      "f([0.00089852]) = 0.000001\n"
     ]
    }
   ],
   "source": [
    "# define range for input\n",
    "bounds = asarray([[-1.0, 1.0]])\n",
    "# define the total iterations\n",
    "n_iter = 30\n",
    "# define the step size\n",
    "step_size = 0.1\n",
    "# perform the gradient descent search\n",
    "value, eval_value, best, score = gradient_descent(objective, derivative, bounds, n_iter, step_size)\n",
    "print('Done!')\n",
    "print('f(%s) = %f' % (best, score))\n"
   ]
  },
  {
   "cell_type": "code",
   "execution_count": 22,
   "metadata": {},
   "outputs": [
    {
     "data": {
      "text/plain": [
       "[<matplotlib.lines.Line2D at 0x7fecf72fdb50>]"
      ]
     },
     "execution_count": 22,
     "metadata": {},
     "output_type": "execute_result"
    },
    {
     "data": {
      "image/png": "[encoded data removed]",
      "text/plain": [
       "<Figure size 432x288 with 1 Axes>"
      ]
     },
     "metadata": {
      "needs_background": "light"
     },
     "output_type": "display_data"
    }
   ],
   "source": [
    "plt.plot(value, eval_value)"
   ]
  },
  {
   "cell_type": "code",
   "execution_count": 23,
   "metadata": {},
   "outputs": [
    {
     "data": {
      "image/png": "[encoded data removed]",
      "text/plain": [
       "<Figure size 432x288 with 1 Axes>"
      ]
     },
     "metadata": {
      "needs_background": "light"
     },
     "output_type": "display_data"
    }
   ],
   "source": [
    "# define range for input\n",
    "r_min, r_max = -1.0, 1.0\n",
    "# sample input range uniformly at 0.1 increments\n",
    "inputs = arange(r_min, r_max+0.1, 0.1)\n",
    "# compute targets\n",
    "results = objective(inputs)\n",
    "# create a line plot of input vs result\n",
    "plt.plot(inputs, results)\n",
    "plt.plot(value, eval_value, '.-', color='red')\n",
    "# show the plot\n",
    "plt.show()"
   ]
  },
  {
   "cell_type": "markdown",
   "metadata": {},
   "source": [
    "Taking the upper implementation as reference implement gradient descent for linear regression.\n",
    "\n",
    "Hint: Objective is cost function of linear regression\n",
    "\n",
    "derivative: derivative of linear regression cost function."
   ]
  },
  {
   "cell_type": "markdown",
   "metadata": {},
   "source": []
  }
 ],
 "metadata": {
  "kernelspec": {
   "display_name": "Python 3.8.6 ('ml-with-python')",
   "language": "python",
   "name": "python3"
  },
  "language_info": {
   "codemirror_mode": {
    "name": "ipython",
    "version": 3
   },
   "file_extension": ".py",
   "mimetype": "text/x-python",
   "name": "python",
   "nbconvert_exporter": "python",
   "pygments_lexer": "ipython3",
   "version": "3.8.6"
  },
  "orig_nbformat": 4,
  "vscode": {
   "interpreter": {
    "hash": "8360401c4a695c74f6bb6bf7f427f01f3e5ded36740dded63d9980a2061a0bb1"
   }
  }
 },
 "nbformat": 4,
 "nbformat_minor": 2
}
